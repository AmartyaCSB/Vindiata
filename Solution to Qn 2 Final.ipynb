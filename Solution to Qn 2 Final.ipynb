{
 "cells": [
  {
   "cell_type": "code",
   "execution_count": 1,
   "metadata": {},
   "outputs": [],
   "source": [
    "# Importing Packages\n",
    "\n",
    "import math\n",
    "import numpy as np\n",
    "import pandas as pd"
   ]
  },
  {
   "cell_type": "code",
   "execution_count": 2,
   "metadata": {},
   "outputs": [],
   "source": [
    "# Importing and Reading files\n",
    "xls = pd.ExcelFile('Case_study.xlsx')\n",
    "df1 = pd.read_excel(xls, 'City pairs')\n",
    "df2 = pd.read_excel(xls, 'AC characteristics')"
   ]
  },
  {
   "cell_type": "code",
   "execution_count": 3,
   "metadata": {},
   "outputs": [],
   "source": [
    "# Assigning a NAN to a new column made for Total Cost\n",
    "df2['Total Cost for Chosen Flights']= np.nan"
   ]
  },
  {
   "cell_type": "code",
   "execution_count": 4,
   "metadata": {},
   "outputs": [],
   "source": [
    "# Main function for calculating the optimalFlight given the Distance and Demand between two city pairs\n",
    "\n",
    "def Optimal_Flight(Distance,Demand):\n",
    "    df=pd.DataFrame()\n",
    "    df=df2.copy()\n",
    "    for index, row in df.iterrows():\n",
    "        if (row['Range (Km)']) >= Distance:\n",
    "            Aircaft_Type = (df.iloc[index,0])\n",
    "            Aircraft_Seats = (df.iloc[index,3])\n",
    "            Aircraft_CostPERHour = (df.iloc[index,-2])\n",
    "            Time = Distance/df.iloc[index,2]\n",
    "            CostPerTrip = Time*Aircraft_CostPERHour\n",
    "            NoOfTrips = math.ceil(Demand/Aircraft_Seats)\n",
    "            TotalCost = NoOfTrips*CostPerTrip\n",
    "            df.iloc[index,-1]=TotalCost\n",
    "    df = df.sort_values(by=['Total Cost for Chosen Flights'])\n",
    "    name= (df.iloc[0,0])\n",
    "    df.to_csv('excel1.csv')\n",
    "    return (name)\n"
   ]
  },
  {
   "cell_type": "code",
   "execution_count": 5,
   "metadata": {},
   "outputs": [
    {
     "data": {
      "text/plain": [
       "0    A330\n",
       "1    A330\n",
       "2    A320\n",
       "3    A320\n",
       "dtype: object"
      ]
     },
     "execution_count": 5,
     "metadata": {},
     "output_type": "execute_result"
    }
   ],
   "source": [
    "# Iterating over every city pair\n",
    "\n",
    "Flight = df1.apply(lambda row: Optimal_Flight(row['Distance (km)'], row['Pass Demand (per Day)']), axis=1)\n",
    "Flight\n"
   ]
  },
  {
   "cell_type": "code",
   "execution_count": null,
   "metadata": {},
   "outputs": [],
   "source": []
  }
 ],
 "metadata": {
  "kernelspec": {
   "display_name": "Python 3",
   "language": "python",
   "name": "python3"
  },
  "language_info": {
   "codemirror_mode": {
    "name": "ipython",
    "version": 3
   },
   "file_extension": ".py",
   "mimetype": "text/x-python",
   "name": "python",
   "nbconvert_exporter": "python",
   "pygments_lexer": "ipython3",
   "version": "3.6.4"
  }
 },
 "nbformat": 4,
 "nbformat_minor": 2
}
